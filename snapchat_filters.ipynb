{
 "cells": [
  {
   "cell_type": "code",
   "execution_count": 7,
   "id": "830ba2b2",
   "metadata": {},
   "outputs": [],
   "source": [
    "import os\n",
    "import cv2\n",
    "import numpy as np\n",
    "import cvzone"
   ]
  },
  {
   "cell_type": "code",
   "execution_count": 8,
   "id": "727aacb7",
   "metadata": {},
   "outputs": [],
   "source": [
    "eyes_cascade=cv2.CascadeClassifier(\"./train/frontalEyes35x16.xml\")\n",
    "nose_cascade=cv2.CascadeClassifier(\"./train/Nose18x15.xml\")\n",
    "face_cascade=cv2.CascadeClassifier(\"./train/haarcascade_frontalface_alt.xml\")\n",
    "cam=cv2.VideoCapture(0)\n",
    "while True:\n",
    "    overlay_eyes = cv2.imread('./train/glasses.png'.format(1), cv2.IMREAD_UNCHANGED)\n",
    "    overlay_nose=cv2.imread('./train/mustache.png'.format(1),cv2.IMREAD_UNCHANGED)\n",
    "    ret,frame=cam.read()\n",
    "    cv2.imshow('original face',frame)\n",
    "    if ret==False:\n",
    "        continue\n",
    "    noses=nose_cascade.detectMultiScale(frame,1.2,5)\n",
    "    eyes=eyes_cascade.detectMultiScale(frame)\n",
    "    faces=face_cascade.detectMultiScale(frame,1.2,5)   \n",
    "    for (x,y,w,h) in noses:\n",
    "        offset=10\n",
    "        nose=frame[y-offset:y+offset+h,x-offset:x+offset+w]\n",
    "        overlay_resize=cv2.resize(overlay_nose,(w,int(h)))\n",
    "        frame=cvzone.overlayPNG(frame,overlay_resize,[x,y])\n",
    "#         nose_section=cv2.resize(nose,(100,100))\n",
    "#         cv2.rectangle(frame,(x,y),(x+w,y+h),(255,0,0),2)\n",
    "    for(x,y,w,h) in eyes:\n",
    "        eye_section=frame[y-offset:y+offset+h,x-offset:x+offset+w]\n",
    "#         eye_section=cv2.resize(eye_section,(100,100))\n",
    "#         cv2.rectangle(frame,(x,y),(x+w,y+h),(255,255,0),2)\n",
    "        overlay_resize = cv2.resize(overlay_eyes,(w,int(h*1.05)))\n",
    "        frame = cvzone.overlayPNG(frame, overlay_resize, [x, y])\n",
    "    key=cv2.waitKey(1)&0xFF\n",
    "    cv2.imshow(\"snap lens\",frame)\n",
    "    if(key==ord('q')):\n",
    "        break\n",
    "cam.release()\n",
    "cv2.destroyAllWindows()"
   ]
  },
  {
   "cell_type": "markdown",
   "id": "e476127c",
   "metadata": {},
   "source": [
    "I am enjoying working on the image processing projects as I have completed my latest project of creating Snapchat filters. Earlier I used to wonder how these filters work so accurately but after completing the project it gave me immense pleasure on creating one of my own. I sincerely Thank my Parents, siblings Teachers, and friends for their support and cooperation. I am looking forward to the internship/job so that I could use and improve my skills in the industry. #work #project #snapchat #python #opencv #imageprocessing #machinelearning #internship #opentowork  "
   ]
  },
  {
   "cell_type": "code",
   "execution_count": null,
   "id": "fe6e3c69",
   "metadata": {},
   "outputs": [],
   "source": []
  },
  {
   "cell_type": "code",
   "execution_count": null,
   "id": "9b3e00b7",
   "metadata": {},
   "outputs": [],
   "source": []
  }
 ],
 "metadata": {
  "kernelspec": {
   "display_name": "Python 3",
   "language": "python",
   "name": "python3"
  },
  "language_info": {
   "codemirror_mode": {
    "name": "ipython",
    "version": 3
   },
   "file_extension": ".py",
   "mimetype": "text/x-python",
   "name": "python",
   "nbconvert_exporter": "python",
   "pygments_lexer": "ipython3",
   "version": "3.8.8"
  }
 },
 "nbformat": 4,
 "nbformat_minor": 5
}
